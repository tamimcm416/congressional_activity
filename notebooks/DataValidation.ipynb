{
 "cells": [
  {
   "attachments": {
    "8cf41118-6d24-4f60-baf0-8f512146cf5a.png": {
     "image/png": "[encoded data removed]"
    }
   },
   "cell_type": "markdown",
   "id": "1c6f9ae9-a391-4be9-b940-8ff9d8c6886a",
   "metadata": {
    "tags": []
   },
   "source": [
    "![header2.png](attachment:8cf41118-6d24-4f60-baf0-8f512146cf5a.png)\n",
    "***  \n",
    "# Introduction  \n",
    "Since 1947, a summary of each Congressional session has been included in the Congressional Record, under the title Resume of Congressional Activity. The resume includes statistics on the number of measures introduced, bills passed, outcome of confirmations, etc.\n",
    "\n",
    "The objective of this project is to create a dataset from published Resumes of Congressional Activity for analysis.\n",
    "\n",
    "For this project, Resumes of Congressional Activity were downloaded in PDF form from <a href=\"https://www.senate.gov/\">Senate.gov</a> and <a href=\"https://govinfo.gov\">GovInfo.com</a>. Resumes from the 98th though 117th Congresses are included in this porject.\n",
    "\n",
    "Additional information regarding the Resume of Congressional activity can be found at <a href=\"https://www.congress.gov/help/congressional-record\">congress.gov</a>."
   ]
  },
  {
   "cell_type": "markdown",
   "id": "6fbdbe78-45ef-45e9-aa24-7a404b633884",
   "metadata": {},
   "source": [
    "***\n",
    "# Notebook Setup\n",
    "***"
   ]
  },
  {
   "cell_type": "code",
   "execution_count": 2,
   "id": "0e6025d6-a7a4-4f3a-9fbb-5b16d3f9f49f",
   "metadata": {},
   "outputs": [],
   "source": [
    "# Import libraries\n",
    "import pandas as pd\n",
    "import re"
   ]
  },
  {
   "cell_type": "code",
   "execution_count": 3,
   "id": "5d2a652f-3b96-4740-abf9-4efd8fe39a80",
   "metadata": {},
   "outputs": [],
   "source": [
    "# This notebook requires openpyxl. If you do not have this installed, uncomment the following install command\n",
    "#!pip install openpyxl"
   ]
  },
  {
   "cell_type": "markdown",
   "id": "2443d95a-7e1c-4b7f-927c-6cf71cdf300d",
   "metadata": {
    "tags": []
   },
   "source": [
    "***  \n",
    "# Read Scrubbed Activity Data\n",
    "***"
   ]
  },
  {
   "cell_type": "code",
   "execution_count": 4,
   "id": "91c65717-d638-45e8-a0a9-498469dcb3b8",
   "metadata": {},
   "outputs": [],
   "source": [
    "# Read in all worksheets, dividing the data into general legislative activity and confirmation related activity\n",
    "file_name = '../Data/Resume Data - Scrubbed.xlsx'\n",
    "gen_activity_df = pd.read_excel(file_name, sheet_name='General Activity')\n",
    "confirm_df = pd.read_excel(file_name, sheet_name='Confirmations')"
   ]
  },
  {
   "cell_type": "markdown",
   "id": "358ea9f4-16ae-4500-8f05-a2840e7bfb83",
   "metadata": {},
   "source": [
    "***\n",
    "# Missing Data\n",
    "***"
   ]
  },
  {
   "cell_type": "code",
   "execution_count": 13,
   "id": "418277a4-03d6-470f-a8a0-59c55e31cc87",
   "metadata": {
    "tags": []
   },
   "outputs": [
    {
     "data": {
      "text/plain": [
       "41"
      ]
     },
     "execution_count": 13,
     "metadata": {},
     "output_type": "execute_result"
    }
   ],
   "source": [
    "# Look for columns General Activity dataframe that contain 0\n",
    "len(gen_activity_df.columns[(gen_activity_df == 0).any()])\n",
    "len(gen_activity_df.columns)"
   ]
  },
  {
   "cell_type": "markdown",
   "id": "b5779680-0ac9-4ab5-af79-ba2e0ef40f10",
   "metadata": {},
   "source": [
    "***\n",
    "# General Activity\n",
    "***"
   ]
  },
  {
   "cell_type": "code",
   "execution_count": 4,
   "id": "984bcd02-590a-4cd7-b511-0c9e10ae02e9",
   "metadata": {},
   "outputs": [
    {
     "data": {
      "text/html": [
       "<div>\n",
       "<style scoped>\n",
       "    .dataframe tbody tr th:only-of-type {\n",
       "        vertical-align: middle;\n",
       "    }\n",
       "\n",
       "    .dataframe tbody tr th {\n",
       "        vertical-align: top;\n",
       "    }\n",
       "\n",
       "    .dataframe thead th {\n",
       "        text-align: right;\n",
       "    }\n",
       "</style>\n",
       "<table border=\"1\" class=\"dataframe\">\n",
       "  <thead>\n",
       "    <tr style=\"text-align: right;\">\n",
       "      <th></th>\n",
       "      <th>Year</th>\n",
       "      <th>Congress</th>\n",
       "      <th>Session</th>\n",
       "      <th>Chamber</th>\n",
       "      <th>Bills not signed</th>\n",
       "      <th>Bills through conference</th>\n",
       "      <th>Bills vetoed</th>\n",
       "      <th>Conference reports</th>\n",
       "      <th>Extension of remarks</th>\n",
       "      <th>Pages of proceedings</th>\n",
       "      <th>...</th>\n",
       "      <th>Measures reported, Senate joint resolutions</th>\n",
       "      <th>Measures reported, Simple resolutions</th>\n",
       "      <th>Private bills enacted into law</th>\n",
       "      <th>Public bills enacted into law</th>\n",
       "      <th>Quorum calls</th>\n",
       "      <th>Recorded votes</th>\n",
       "      <th>Special reports</th>\n",
       "      <th>Time in session</th>\n",
       "      <th>Vetoes overridden</th>\n",
       "      <th>Yea-and-nay votes</th>\n",
       "    </tr>\n",
       "  </thead>\n",
       "  <tbody>\n",
       "    <tr>\n",
       "      <th>0</th>\n",
       "      <td>1983</td>\n",
       "      <td>98</td>\n",
       "      <td>1</td>\n",
       "      <td>Senate</td>\n",
       "      <td>0</td>\n",
       "      <td>4</td>\n",
       "      <td>3</td>\n",
       "      <td>4</td>\n",
       "      <td>0</td>\n",
       "      <td>17224</td>\n",
       "      <td>...</td>\n",
       "      <td>87</td>\n",
       "      <td>139</td>\n",
       "      <td>0</td>\n",
       "      <td>101</td>\n",
       "      <td>18</td>\n",
       "      <td>0</td>\n",
       "      <td>25</td>\n",
       "      <td>1010</td>\n",
       "      <td>1</td>\n",
       "      <td>381</td>\n",
       "    </tr>\n",
       "    <tr>\n",
       "      <th>1</th>\n",
       "      <td>1984</td>\n",
       "      <td>98</td>\n",
       "      <td>2</td>\n",
       "      <td>Senate</td>\n",
       "      <td>0</td>\n",
       "      <td>22</td>\n",
       "      <td>8</td>\n",
       "      <td>0</td>\n",
       "      <td>0</td>\n",
       "      <td>14650</td>\n",
       "      <td>...</td>\n",
       "      <td>99</td>\n",
       "      <td>122</td>\n",
       "      <td>17</td>\n",
       "      <td>166</td>\n",
       "      <td>19</td>\n",
       "      <td>0</td>\n",
       "      <td>11</td>\n",
       "      <td>940</td>\n",
       "      <td>1</td>\n",
       "      <td>292</td>\n",
       "    </tr>\n",
       "    <tr>\n",
       "      <th>2</th>\n",
       "      <td>1985</td>\n",
       "      <td>99</td>\n",
       "      <td>1</td>\n",
       "      <td>Senate</td>\n",
       "      <td>0</td>\n",
       "      <td>8</td>\n",
       "      <td>0</td>\n",
       "      <td>2</td>\n",
       "      <td>0</td>\n",
       "      <td>18418</td>\n",
       "      <td>...</td>\n",
       "      <td>118</td>\n",
       "      <td>100</td>\n",
       "      <td>0</td>\n",
       "      <td>110</td>\n",
       "      <td>20</td>\n",
       "      <td>0</td>\n",
       "      <td>18</td>\n",
       "      <td>1252</td>\n",
       "      <td>1</td>\n",
       "      <td>381</td>\n",
       "    </tr>\n",
       "    <tr>\n",
       "      <th>3</th>\n",
       "      <td>1986</td>\n",
       "      <td>99</td>\n",
       "      <td>2</td>\n",
       "      <td>Senate</td>\n",
       "      <td>0</td>\n",
       "      <td>0</td>\n",
       "      <td>4</td>\n",
       "      <td>0</td>\n",
       "      <td>0</td>\n",
       "      <td>17426</td>\n",
       "      <td>...</td>\n",
       "      <td>111</td>\n",
       "      <td>63</td>\n",
       "      <td>7</td>\n",
       "      <td>187</td>\n",
       "      <td>16</td>\n",
       "      <td>0</td>\n",
       "      <td>15</td>\n",
       "      <td>1278</td>\n",
       "      <td>1</td>\n",
       "      <td>359</td>\n",
       "    </tr>\n",
       "    <tr>\n",
       "      <th>4</th>\n",
       "      <td>1987</td>\n",
       "      <td>100</td>\n",
       "      <td>1</td>\n",
       "      <td>Senate</td>\n",
       "      <td>0</td>\n",
       "      <td>0</td>\n",
       "      <td>1</td>\n",
       "      <td>1</td>\n",
       "      <td>0</td>\n",
       "      <td>18660</td>\n",
       "      <td>...</td>\n",
       "      <td>72</td>\n",
       "      <td>62</td>\n",
       "      <td>2</td>\n",
       "      <td>96</td>\n",
       "      <td>36</td>\n",
       "      <td>0</td>\n",
       "      <td>28</td>\n",
       "      <td>1214</td>\n",
       "      <td>2</td>\n",
       "      <td>420</td>\n",
       "    </tr>\n",
       "  </tbody>\n",
       "</table>\n",
       "<p>5 rows × 41 columns</p>\n",
       "</div>"
      ],
      "text/plain": [
       "   Year  Congress  Session Chamber  Bills not signed  \\\n",
       "0  1983        98        1  Senate                 0   \n",
       "1  1984        98        2  Senate                 0   \n",
       "2  1985        99        1  Senate                 0   \n",
       "3  1986        99        2  Senate                 0   \n",
       "4  1987       100        1  Senate                 0   \n",
       "\n",
       "   Bills through conference  Bills vetoed  Conference reports  \\\n",
       "0                         4             3                   4   \n",
       "1                        22             8                   0   \n",
       "2                         8             0                   2   \n",
       "3                         0             4                   0   \n",
       "4                         0             1                   1   \n",
       "\n",
       "   Extension of remarks  Pages of proceedings  ...  \\\n",
       "0                     0                 17224  ...   \n",
       "1                     0                 14650  ...   \n",
       "2                     0                 18418  ...   \n",
       "3                     0                 17426  ...   \n",
       "4                     0                 18660  ...   \n",
       "\n",
       "   Measures reported, Senate joint resolutions  \\\n",
       "0                                           87   \n",
       "1                                           99   \n",
       "2                                          118   \n",
       "3                                          111   \n",
       "4                                           72   \n",
       "\n",
       "   Measures reported, Simple resolutions  Private bills enacted into law  \\\n",
       "0                                    139                               0   \n",
       "1                                    122                              17   \n",
       "2                                    100                               0   \n",
       "3                                     63                               7   \n",
       "4                                     62                               2   \n",
       "\n",
       "   Public bills enacted into law  Quorum calls  Recorded votes  \\\n",
       "0                            101            18               0   \n",
       "1                            166            19               0   \n",
       "2                            110            20               0   \n",
       "3                            187            16               0   \n",
       "4                             96            36               0   \n",
       "\n",
       "   Special reports  Time in session  Vetoes overridden  Yea-and-nay votes  \n",
       "0               25             1010                  1                381  \n",
       "1               11              940                  1                292  \n",
       "2               18             1252                  1                381  \n",
       "3               15             1278                  1                359  \n",
       "4               28             1214                  2                420  \n",
       "\n",
       "[5 rows x 41 columns]"
      ]
     },
     "execution_count": 4,
     "metadata": {},
     "output_type": "execute_result"
    }
   ],
   "source": [
    "# Preview the general activity dataframe\n",
    "gen_activity_df.head()"
   ]
  },
  {
   "cell_type": "markdown",
   "id": "c577db99-e158-4205-ab83-3ada012bb291",
   "metadata": {},
   "source": [
    "***"
   ]
  },
  {
   "cell_type": "code",
   "execution_count": 100,
   "id": "4c757894-0ad8-4f7a-a708-7a715eef0c9c",
   "metadata": {},
   "outputs": [
    {
     "ename": "SyntaxError",
     "evalue": "invalid character '“' (U+201C) (4031170168.py, line 4)",
     "output_type": "error",
     "traceback": [
      "\u001b[1;36m  Input \u001b[1;32mIn [100]\u001b[1;36m\u001b[0m\n\u001b[1;33m    temp.loc[temp[“Year”] == 1984, \"Year\"] = 0\u001b[0m\n\u001b[1;37m                  ^\u001b[0m\n\u001b[1;31mSyntaxError\u001b[0m\u001b[1;31m:\u001b[0m invalid character '“' (U+201C)\n"
     ]
    }
   ],
   "source": [
    "# Test: All rows have values for Year, Session, Congress and Chamber\n",
    "#print(f\"Empty values for Year: {gen_activity_df['Year'].isna().any()}\")\n",
    "temp = gen_activity_df.copy()\\\n",
    "df.loc[ df[“column_name”] == “some_value”, “column_name”] = “value”\n",
    "temp.loc[temp[“Year”] == 1984, \"Year\"] = 0\n",
    "temp.head()"
   ]
  },
  {
   "cell_type": "code",
   "execution_count": 5,
   "id": "3a296400-e3b0-4af3-885d-5c6d1c2053b7",
   "metadata": {},
   "outputs": [
    {
     "name": "stdout",
     "output_type": "stream",
     "text": [
      "Year Min: 1983\n",
      "Year Max: 2022\n"
     ]
    }
   ],
   "source": [
    "# Test: The Years column should start with 1983 and end with 2022\n",
    "print(f\"Year Min: {gen_activity_df['Year'].min()}\")\n",
    "print(f\"Year Max: {gen_activity_df['Year'].max()}\")"
   ]
  },
  {
   "cell_type": "markdown",
   "id": "b3e12192-31dd-43c7-bb3b-c02107367288",
   "metadata": {},
   "source": [
    "***  "
   ]
  },
  {
   "cell_type": "code",
   "execution_count": 6,
   "id": "014eea57-5170-498b-978c-d3b59751d56a",
   "metadata": {},
   "outputs": [
    {
     "name": "stdout",
     "output_type": "stream",
     "text": [
      "Congress Min: 98\n",
      "Congress Max: 117\n"
     ]
    }
   ],
   "source": [
    "# Test: The Congress column should start with 98 and end with 117\n",
    "print(f\"Congress Min: {gen_activity_df['Congress'].min()}\")\n",
    "print(f\"Congress Max: {gen_activity_df['Congress'].max()}\")"
   ]
  },
  {
   "cell_type": "markdown",
   "id": "7bd96df2-f5a7-4173-b282-c7166828b25f",
   "metadata": {},
   "source": [
    "***"
   ]
  },
  {
   "cell_type": "code",
   "execution_count": 7,
   "id": "2a5e40ca-cd34-47d4-b500-806f7acb9c0b",
   "metadata": {},
   "outputs": [
    {
     "name": "stdout",
     "output_type": "stream",
     "text": [
      "Unique Session Values: [1 2]\n"
     ]
    }
   ],
   "source": [
    "#Test: Values for the Session column must be 1 or 2\n",
    "print(f\"Unique Session Values: {gen_activity_df['Session'].unique()}\")"
   ]
  },
  {
   "cell_type": "markdown",
   "id": "2fee7297-1e60-40db-bee8-e1a286fcdf02",
   "metadata": {},
   "source": [
    "***"
   ]
  },
  {
   "cell_type": "code",
   "execution_count": 8,
   "id": "965c1070-6213-4dd8-b681-93c161ee4b50",
   "metadata": {},
   "outputs": [
    {
     "name": "stdout",
     "output_type": "stream",
     "text": [
      "Unique Chamber Values: ['Senate' 'House' 'Both']\n"
     ]
    }
   ],
   "source": [
    "# Test: Values for the Chamber column must be Senate, House or Both\n",
    "print(f\"Unique Chamber Values: {gen_activity_df['Chamber'].unique()}\")"
   ]
  },
  {
   "cell_type": "markdown",
   "id": "849269f2-6077-4373-861a-88b44f492ab6",
   "metadata": {},
   "source": [
    "***"
   ]
  },
  {
   "cell_type": "code",
   "execution_count": 9,
   "id": "a27a3fe1-f807-4fc1-94ef-db2b77dacaed",
   "metadata": {},
   "outputs": [
    {
     "data": {
      "text/plain": [
       "Chamber\n",
       "Both        0\n",
       "House     193\n",
       "Senate    211\n",
       "Name: Days in session, dtype: int64"
      ]
     },
     "execution_count": 9,
     "metadata": {},
     "output_type": "execute_result"
    }
   ],
   "source": [
    "# Values for Days in Session cannot exceed 365 for the Senate and House, or 730 for Both\n",
    "gen_activity_df.groupby(['Chamber'])['Days in session'].max()"
   ]
  },
  {
   "cell_type": "markdown",
   "id": "96b571bc-6163-4cf6-9ab9-9714158be93d",
   "metadata": {},
   "source": [
    "***"
   ]
  },
  {
   "cell_type": "code",
   "execution_count": 10,
   "id": "2f77238c-ca16-4e57-90af-e44ffde2441c",
   "metadata": {},
   "outputs": [
    {
     "name": "stdout",
     "output_type": "stream",
     "text": [
      "Average Hours Per Day, Max: 9\n"
     ]
    }
   ],
   "source": [
    "# Test: Time in Session divided by Days in Session cannot exceed 24\n",
    "temp_df = gen_activity_df.loc[gen_activity_df['Days in session'] > 0].copy()\n",
    "temp_df['Avg Hours Per Day'] = (temp_df['Time in session'] / temp_df['Days in session']).astype(int)\n",
    "print(f\"Average Hours Per Day, Max: {temp_df['Avg Hours Per Day'].max()}\")"
   ]
  },
  {
   "cell_type": "markdown",
   "id": "429c8383-0493-412a-a2eb-89329f5dccdd",
   "metadata": {},
   "source": [
    "***"
   ]
  },
  {
   "cell_type": "code",
   "execution_count": 11,
   "id": "0f931338-ba5b-4b27-9052-4f35ad64aa1a",
   "metadata": {},
   "outputs": [
    {
     "name": "stdout",
     "output_type": "stream",
     "text": [
      "Validation Error: 1984\n",
      "Validation Error: 1993\n"
     ]
    }
   ],
   "source": [
    "#Test: If the Pages of Proceeding for Both chambers is not zero, then it should equal the sum of the values for the House and Senate\n",
    "failures = False\n",
    "\n",
    "for yr in gen_activity_df['Year'].unique():\n",
    "    yr_rows = gen_activity_df[gen_activity_df['Year'] == yr]\n",
    "    house_pgs = yr_rows[yr_rows['Chamber'] == 'House']['Pages of proceedings'].item()\n",
    "    senate_pgs = yr_rows[yr_rows['Chamber'] == 'Senate']['Pages of proceedings'].item()\n",
    "    both_pgs = yr_rows[yr_rows['Chamber'] == 'Both']['Pages of proceedings'].item()\n",
    "    if both_pgs > 0 and house_pgs + senate_pgs != both_pgs:\n",
    "        print(f'Validation Error: {yr}')\n",
    "        failures = True\n",
    "        \n",
    "if failures == False:\n",
    "    print('No validations errors found.')"
   ]
  },
  {
   "cell_type": "markdown",
   "id": "1cb7ef0d-0c6b-4bb0-afe6-41d85093acf6",
   "metadata": {},
   "source": [
    "<font color='red'>**Failed:**</font>  The original data sources show a miscalculation for both 1984 and 1993. Further research is needed to determine if a correction was issued, or if the values can be verified from another source."
   ]
  },
  {
   "cell_type": "markdown",
   "id": "b4088e56-7dfe-4e4d-b6ff-0ba58563d300",
   "metadata": {},
   "source": [
    "***"
   ]
  },
  {
   "cell_type": "code",
   "execution_count": 12,
   "id": "da31616b-afd1-4b65-9de4-e913237331cd",
   "metadata": {},
   "outputs": [
    {
     "name": "stdout",
     "output_type": "stream",
     "text": [
      "No validations errors found.\n"
     ]
    }
   ],
   "source": [
    "#Test: If the Extensions of Remarks for Both chambers is not zero, then it should equal the sum of the values for the House and Senate\n",
    "failures = False\n",
    "\n",
    "for yr in gen_activity_df['Year'].unique():\n",
    "    yr_rows = gen_activity_df[gen_activity_df['Year'] == yr]\n",
    "    house_remarks = yr_rows[yr_rows['Chamber'] == 'House']['Extension of remarks'].item()\n",
    "    senate_remarks = yr_rows[yr_rows['Chamber'] == 'Senate']['Extension of remarks'].item()\n",
    "    both_remarks = yr_rows[yr_rows['Chamber'] == 'Both']['Extension of remarks'].item()\n",
    "    if house_remarks > 0 or senate_remarks > 0:\n",
    "        if both_remarks > 0 and house_remarks + senate_remarks != both_remarks:\n",
    "            print(f'Validation Error: {yr}')\n",
    "            failures = True\n",
    "            \n",
    "if failures == False:\n",
    "    print('No validations errors found.')"
   ]
  },
  {
   "cell_type": "markdown",
   "id": "d31ce985-ff87-49a9-a0e5-6ae311360320",
   "metadata": {},
   "source": [
    "***"
   ]
  },
  {
   "cell_type": "code",
   "execution_count": 13,
   "id": "8b7a9f8a-1acf-45eb-95ec-fd73dbde8857",
   "metadata": {},
   "outputs": [
    {
     "name": "stdout",
     "output_type": "stream",
     "text": [
      "Validation Error: 1993\n"
     ]
    }
   ],
   "source": [
    "# Test: If the Total Measures Passed for Both Chambers is not zero, then it should equal the sum of the values for the House and Senate\n",
    "failures = False\n",
    "\n",
    "for yr in gen_activity_df['Year'].unique():\n",
    "    yr_rows = gen_activity_df[gen_activity_df['Year'] == yr]\n",
    "    house_passed = yr_rows[yr_rows['Chamber'] == 'House']['Measures passed, total'].item()\n",
    "    senate_passed = yr_rows[yr_rows['Chamber'] == 'Senate']['Measures passed, total'].item()\n",
    "    both_passed = yr_rows[yr_rows['Chamber'] == 'Both']['Measures passed, total'].item()\n",
    "    if house_passed > 0 or senate_passed > 0:\n",
    "        if both_passed > 0 and house_passed + senate_passed != both_passed:\n",
    "            print(f'Validation Error: {yr}')\n",
    "            failures = True\n",
    "            \n",
    "if failures == False:\n",
    "    print('No validations errors found.')"
   ]
  },
  {
   "cell_type": "markdown",
   "id": "0b0d833d-2b3d-44d1-911d-9a91464e2ea6",
   "metadata": {},
   "source": [
    "<font color='red'>**Failed:**</font>  The original data sources show a miscalculation for 1993. Further research is needed to determine if a correction was issued, or if the values can be verified from another source."
   ]
  },
  {
   "cell_type": "markdown",
   "id": "41fd4155-71f4-456f-9b71-621b75ae7a4b",
   "metadata": {},
   "source": [
    "***"
   ]
  },
  {
   "cell_type": "code",
   "execution_count": 14,
   "id": "7e31df1b-bbfb-4283-b8d3-615b407d0388",
   "metadata": {},
   "outputs": [
    {
     "name": "stdout",
     "output_type": "stream",
     "text": [
      "Validation Error: 1985, Senate\n",
      "Validation Error: 1997, Senate\n",
      "Validation Error: 1984, House\n",
      "Validation Error: 1990, House\n",
      "Validation Error: 1993, House\n"
     ]
    }
   ],
   "source": [
    "# Test: The Total Measures Passed column should equal the sum of all subcategories, for each Chamber respectively.\n",
    "failures = False\n",
    "sub_cols = gen_activity_df.filter(regex='Measures passed').columns.to_list()\n",
    "sub_cols.remove('Measures passed, total')\n",
    "gen_activity_df['Check - Measures passed'] = gen_activity_df[sub_cols].sum(axis=1)\n",
    "\n",
    "for i, row in gen_activity_df.iterrows():\n",
    "    if row['Chamber'] != 'Both':\n",
    "        if row['Measures passed, total'] != row['Check - Measures passed']:\n",
    "            print(f\"Validation Error: {row['Year']}, {row['Chamber']}\")\n",
    "            failures = True\n",
    "\n",
    "if failures == False:\n",
    "    print('No validations errors found.')"
   ]
  },
  {
   "cell_type": "markdown",
   "id": "580493b9-30eb-4fea-a1bc-12d6a035eb95",
   "metadata": {},
   "source": [
    "<font color='red'>**Failed:**</font>  The original data sources show a miscalculation the years listed. Further research is needed to determine if a correction was issued, or if the values can be verified from another source."
   ]
  },
  {
   "cell_type": "markdown",
   "id": "8ac75fc2-aaec-43d9-87e2-3a5c7cce1989",
   "metadata": {},
   "source": [
    "***"
   ]
  },
  {
   "cell_type": "code",
   "execution_count": 15,
   "id": "c8cca339-a27e-4112-b709-78777cd7f8e1",
   "metadata": {
    "tags": []
   },
   "outputs": [
    {
     "name": "stdout",
     "output_type": "stream",
     "text": [
      "Validation Error: 1999\n"
     ]
    }
   ],
   "source": [
    "# Test: If the Total Measures Reported for both Chambers is not zero, then it should equal the sum of the values for the House and Senate\n",
    "failures = False\n",
    "\n",
    "for yr in gen_activity_df['Year'].unique():\n",
    "    yr_rows = gen_activity_df[gen_activity_df['Year'] == yr]\n",
    "    house_reported = yr_rows[yr_rows['Chamber'] == 'House']['Measures reported, total'].item()\n",
    "    senate_reported = yr_rows[yr_rows['Chamber'] == 'Senate']['Measures reported, total'].item()\n",
    "    both_reported = yr_rows[yr_rows['Chamber'] == 'Both']['Measures reported, total'].item()\n",
    "    if house_reported > 0 or senate_reported > 0:\n",
    "        if both_reported > 0 and house_reported + senate_reported != both_reported:\n",
    "            print(f'Validation Error: {yr}')\n",
    "            failures = True\n",
    "            \n",
    "if failures == False:\n",
    "    print('No validations errors found.')"
   ]
  },
  {
   "cell_type": "markdown",
   "id": "9953a479-a4de-4d3d-a2dd-33f04878470d",
   "metadata": {},
   "source": [
    "<font color='red'>**Failed:**</font>  The original data sources show a miscalculation for 1999. Further research is needed to determine if a correction was issued, or if the values can be verified from another source."
   ]
  },
  {
   "cell_type": "markdown",
   "id": "2beb0680-708d-429e-88ec-7990398f30d0",
   "metadata": {},
   "source": [
    "***"
   ]
  },
  {
   "cell_type": "code",
   "execution_count": 16,
   "id": "c2e2458f-2809-460c-a470-cc7a410fdb6e",
   "metadata": {},
   "outputs": [
    {
     "name": "stdout",
     "output_type": "stream",
     "text": [
      "Validation Error: 1989, Senate\n",
      "Validation Error: 1983, House\n",
      "Validation Error: 1988, House\n",
      "Validation Error: 1994, House\n",
      "Validation Error: 2009, House\n"
     ]
    }
   ],
   "source": [
    "# Test: The Total Measures Reported column should equal the sum of all subcategories, for each chamber respectively\n",
    "failures = False\n",
    "sub_cols = gen_activity_df.filter(regex='Measures reported').columns.to_list()\n",
    "sub_cols.remove('Measures reported, total')\n",
    "gen_activity_df['Check - Measures reported'] = gen_activity_df[sub_cols].sum(axis=1)\n",
    "\n",
    "for i, row in gen_activity_df.iterrows():\n",
    "    if row['Chamber'] != 'Both':\n",
    "        if row['Measures reported, total'] != row['Check - Measures reported']:\n",
    "            print(f\"Validation Error: {row['Year']}, {row['Chamber']}\")\n",
    "            failures = True\n",
    "            \n",
    "if failures == False:\n",
    "    print('No validations errors found.')"
   ]
  },
  {
   "cell_type": "markdown",
   "id": "1665fb31-05d7-499b-b835-4eeceabd2de5",
   "metadata": {},
   "source": [
    "<font color='red'>**Failed:**</font>  The original data sources show a miscalculation the years listed. Further research is needed to determine if a correction was issued, or if the values can be verified from another source."
   ]
  },
  {
   "cell_type": "markdown",
   "id": "11d1f5d7-8c8b-4fc0-903b-ef41deb4c5a9",
   "metadata": {},
   "source": [
    "***  "
   ]
  },
  {
   "cell_type": "code",
   "execution_count": 17,
   "id": "29fdf54f-7287-4e8f-8ac0-d49f2460808c",
   "metadata": {},
   "outputs": [
    {
     "name": "stdout",
     "output_type": "stream",
     "text": [
      "No validations errors found.\n"
     ]
    }
   ],
   "source": [
    "# If the Total Measures Introduced for both chambers is not zero, then it should equal the sum of the values for the House and Senate\n",
    "failures = False\n",
    "\n",
    "for yr in gen_activity_df['Year'].unique():\n",
    "    yr_rows = gen_activity_df[gen_activity_df['Year'] == yr]\n",
    "    house_introduced = yr_rows[yr_rows['Chamber'] == 'House']['Measures introduced, total'].item()\n",
    "    senate_introduced = yr_rows[yr_rows['Chamber'] == 'Senate']['Measures introduced, total'].item()\n",
    "    both_introduced = yr_rows[yr_rows['Chamber'] == 'Both']['Measures introduced, total'].item()\n",
    "    if house_introduced > 0 or senate_introduced > 0:\n",
    "        if both_introduced > 0 and house_introduced + senate_introduced != both_introduced:\n",
    "            print(f'Validation Error: {yr}')\n",
    "            failures = True\n",
    "            \n",
    "if failures == False:\n",
    "    print('No validations errors found.')"
   ]
  },
  {
   "cell_type": "markdown",
   "id": "d0aede9a-d6f3-4823-813f-b5349fc0467d",
   "metadata": {},
   "source": [
    "***  \n"
   ]
  },
  {
   "cell_type": "code",
   "execution_count": 18,
   "id": "30fa857a-83dd-4e47-840a-e33f3d60383a",
   "metadata": {},
   "outputs": [
    {
     "name": "stdout",
     "output_type": "stream",
     "text": [
      "Validation Error: 2003, Senate\n",
      "Validation Error: 2011, Senate\n",
      "Validation Error: 1995, House\n"
     ]
    }
   ],
   "source": [
    "# Test: the Total Measures Introduced column should equal the sum of all subcategores, for each Chamber respectively\n",
    "\n",
    "failures = False\n",
    "sub_cols = gen_activity_df.filter(regex='Measures introduced').columns.to_list()\n",
    "sub_cols.remove('Measures introduced, total')\n",
    "gen_activity_df['Check - Measures introduced'] = gen_activity_df[sub_cols].sum(axis=1)\n",
    "\n",
    "for i, row in gen_activity_df.iterrows():\n",
    "    if row['Chamber'] != 'Both':\n",
    "        if row['Measures introduced, total'] != row['Check - Measures introduced']:\n",
    "            print(f\"Validation Error: {row['Year']}, {row['Chamber']}\")\n",
    "            failures = True\n",
    "            \n",
    "if failures == False:\n",
    "    print('No validation errors found.')"
   ]
  },
  {
   "cell_type": "markdown",
   "id": "c5adba92-a9d7-40fe-b8cd-5910a0a0e60a",
   "metadata": {},
   "source": [
    "<font color='red'>**Failed:**</font>  The original data sources show a miscalculation the years listed. Further research is needed to determine if a correction was issued, or if the values can be verified from another source."
   ]
  },
  {
   "cell_type": "markdown",
   "id": "489ca3fb-962d-4c91-8a2f-0472ca93c39d",
   "metadata": {
    "tags": []
   },
   "source": [
    "***\n",
    "# Confirmations\n",
    "***"
   ]
  },
  {
   "cell_type": "code",
   "execution_count": 19,
   "id": "ab8472c8-79d6-4312-83ff-9c45e90563d1",
   "metadata": {},
   "outputs": [
    {
     "data": {
      "text/html": [
       "<div>\n",
       "<style scoped>\n",
       "    .dataframe tbody tr th:only-of-type {\n",
       "        vertical-align: middle;\n",
       "    }\n",
       "\n",
       "    .dataframe tbody tr th {\n",
       "        vertical-align: top;\n",
       "    }\n",
       "\n",
       "    .dataframe thead th {\n",
       "        text-align: right;\n",
       "    }\n",
       "</style>\n",
       "<table border=\"1\" class=\"dataframe\">\n",
       "  <thead>\n",
       "    <tr style=\"text-align: right;\">\n",
       "      <th></th>\n",
       "      <th>Year</th>\n",
       "      <th>Congress</th>\n",
       "      <th>Session</th>\n",
       "      <th>Air Force, nominations</th>\n",
       "      <th>Air Force, nominations, carryover</th>\n",
       "      <th>Air Force, confirmed</th>\n",
       "      <th>Air Force, failed</th>\n",
       "      <th>Air Force, returned</th>\n",
       "      <th>Air Force, unconfirmed</th>\n",
       "      <th>Air Force, withdrawn</th>\n",
       "      <th>...</th>\n",
       "      <th>Space Force, withdrawn</th>\n",
       "      <th>Total, failed</th>\n",
       "      <th>Total, returned</th>\n",
       "      <th>Total, confirmed</th>\n",
       "      <th>Total, recess reappointment</th>\n",
       "      <th>Total, rejected</th>\n",
       "      <th>Total, unconfirmed</th>\n",
       "      <th>Total, withdrawn</th>\n",
       "      <th>Total, nominations</th>\n",
       "      <th>Total, nominations, carryover</th>\n",
       "    </tr>\n",
       "  </thead>\n",
       "  <tbody>\n",
       "    <tr>\n",
       "      <th>0</th>\n",
       "      <td>1983</td>\n",
       "      <td>98</td>\n",
       "      <td>1</td>\n",
       "      <td>12819</td>\n",
       "      <td>0</td>\n",
       "      <td>12792</td>\n",
       "      <td>1</td>\n",
       "      <td>0</td>\n",
       "      <td>26</td>\n",
       "      <td>0</td>\n",
       "      <td>...</td>\n",
       "      <td>0</td>\n",
       "      <td>477</td>\n",
       "      <td>0</td>\n",
       "      <td>55536</td>\n",
       "      <td>0</td>\n",
       "      <td>0</td>\n",
       "      <td>26</td>\n",
       "      <td>2</td>\n",
       "      <td>56041</td>\n",
       "      <td>0</td>\n",
       "    </tr>\n",
       "    <tr>\n",
       "      <th>1</th>\n",
       "      <td>1984</td>\n",
       "      <td>98</td>\n",
       "      <td>2</td>\n",
       "      <td>11818</td>\n",
       "      <td>26</td>\n",
       "      <td>11844</td>\n",
       "      <td>0</td>\n",
       "      <td>0</td>\n",
       "      <td>0</td>\n",
       "      <td>0</td>\n",
       "      <td>...</td>\n",
       "      <td>0</td>\n",
       "      <td>0</td>\n",
       "      <td>0</td>\n",
       "      <td>41726</td>\n",
       "      <td>17</td>\n",
       "      <td>0</td>\n",
       "      <td>107</td>\n",
       "      <td>2</td>\n",
       "      <td>41826</td>\n",
       "      <td>26</td>\n",
       "    </tr>\n",
       "    <tr>\n",
       "      <th>2</th>\n",
       "      <td>1985</td>\n",
       "      <td>99</td>\n",
       "      <td>1</td>\n",
       "      <td>21367</td>\n",
       "      <td>0</td>\n",
       "      <td>19013</td>\n",
       "      <td>0</td>\n",
       "      <td>0</td>\n",
       "      <td>2354</td>\n",
       "      <td>0</td>\n",
       "      <td>...</td>\n",
       "      <td>0</td>\n",
       "      <td>34</td>\n",
       "      <td>0</td>\n",
       "      <td>55918</td>\n",
       "      <td>6</td>\n",
       "      <td>0</td>\n",
       "      <td>3677</td>\n",
       "      <td>8</td>\n",
       "      <td>59643</td>\n",
       "      <td>0</td>\n",
       "    </tr>\n",
       "    <tr>\n",
       "      <th>3</th>\n",
       "      <td>1986</td>\n",
       "      <td>99</td>\n",
       "      <td>2</td>\n",
       "      <td>12246</td>\n",
       "      <td>2354</td>\n",
       "      <td>14600</td>\n",
       "      <td>0</td>\n",
       "      <td>0</td>\n",
       "      <td>0</td>\n",
       "      <td>0</td>\n",
       "      <td>...</td>\n",
       "      <td>0</td>\n",
       "      <td>0</td>\n",
       "      <td>0</td>\n",
       "      <td>39893</td>\n",
       "      <td>0</td>\n",
       "      <td>0</td>\n",
       "      <td>70</td>\n",
       "      <td>8</td>\n",
       "      <td>36294</td>\n",
       "      <td>3677</td>\n",
       "    </tr>\n",
       "    <tr>\n",
       "      <th>4</th>\n",
       "      <td>1987</td>\n",
       "      <td>100</td>\n",
       "      <td>1</td>\n",
       "      <td>18667</td>\n",
       "      <td>0</td>\n",
       "      <td>15711</td>\n",
       "      <td>0</td>\n",
       "      <td>1</td>\n",
       "      <td>2955</td>\n",
       "      <td>0</td>\n",
       "      <td>...</td>\n",
       "      <td>0</td>\n",
       "      <td>0</td>\n",
       "      <td>20</td>\n",
       "      <td>46404</td>\n",
       "      <td>0</td>\n",
       "      <td>1</td>\n",
       "      <td>5494</td>\n",
       "      <td>10</td>\n",
       "      <td>51929</td>\n",
       "      <td>0</td>\n",
       "    </tr>\n",
       "  </tbody>\n",
       "</table>\n",
       "<p>5 rows × 52 columns</p>\n",
       "</div>"
      ],
      "text/plain": [
       "   Year  Congress  Session  Air Force, nominations  \\\n",
       "0  1983        98        1                   12819   \n",
       "1  1984        98        2                   11818   \n",
       "2  1985        99        1                   21367   \n",
       "3  1986        99        2                   12246   \n",
       "4  1987       100        1                   18667   \n",
       "\n",
       "   Air Force, nominations, carryover  Air Force, confirmed  Air Force, failed  \\\n",
       "0                                  0                 12792                  1   \n",
       "1                                 26                 11844                  0   \n",
       "2                                  0                 19013                  0   \n",
       "3                               2354                 14600                  0   \n",
       "4                                  0                 15711                  0   \n",
       "\n",
       "   Air Force, returned  Air Force, unconfirmed  Air Force, withdrawn  ...  \\\n",
       "0                    0                      26                     0  ...   \n",
       "1                    0                       0                     0  ...   \n",
       "2                    0                    2354                     0  ...   \n",
       "3                    0                       0                     0  ...   \n",
       "4                    1                    2955                     0  ...   \n",
       "\n",
       "   Space Force, withdrawn  Total, failed  Total, returned  Total, confirmed  \\\n",
       "0                       0            477                0             55536   \n",
       "1                       0              0                0             41726   \n",
       "2                       0             34                0             55918   \n",
       "3                       0              0                0             39893   \n",
       "4                       0              0               20             46404   \n",
       "\n",
       "   Total, recess reappointment  Total, rejected  Total, unconfirmed  \\\n",
       "0                            0                0                  26   \n",
       "1                           17                0                 107   \n",
       "2                            6                0                3677   \n",
       "3                            0                0                  70   \n",
       "4                            0                1                5494   \n",
       "\n",
       "   Total, withdrawn  Total, nominations  Total, nominations, carryover  \n",
       "0                 2               56041                              0  \n",
       "1                 2               41826                             26  \n",
       "2                 8               59643                              0  \n",
       "3                 8               36294                           3677  \n",
       "4                10               51929                              0  \n",
       "\n",
       "[5 rows x 52 columns]"
      ]
     },
     "execution_count": 19,
     "metadata": {},
     "output_type": "execute_result"
    }
   ],
   "source": [
    "# Preview the confirmations dataframe\n",
    "confirm_df.head()"
   ]
  },
  {
   "cell_type": "markdown",
   "id": "1914680d-0e63-4555-bde5-ee4798892117",
   "metadata": {},
   "source": [
    "***  "
   ]
  },
  {
   "cell_type": "code",
   "execution_count": 20,
   "id": "a7edf710-efc6-435a-a543-d877d9af0e64",
   "metadata": {},
   "outputs": [
    {
     "name": "stdout",
     "output_type": "stream",
     "text": [
      "Year Min: 1983\n",
      "Year Max: 2022\n"
     ]
    }
   ],
   "source": [
    "# Test: The Years column should start with 1983 and end with 2022\n",
    "print(f\"Year Min: {confirm_df['Year'].min()}\")\n",
    "print(f\"Year Max: {confirm_df['Year'].max()}\")"
   ]
  },
  {
   "cell_type": "markdown",
   "id": "04ddf005-b72d-4c7c-888d-a012ca3005d3",
   "metadata": {},
   "source": [
    "***  "
   ]
  },
  {
   "cell_type": "code",
   "execution_count": 21,
   "id": "bed467a7-8cb4-4723-8661-4bac3f989ce1",
   "metadata": {},
   "outputs": [
    {
     "name": "stdout",
     "output_type": "stream",
     "text": [
      "Congress Min: 98\n",
      "Congress Max: 117\n"
     ]
    }
   ],
   "source": [
    "# Test: The Congress column should start with 98 and end with 117\n",
    "print(f\"Congress Min: {confirm_df['Congress'].min()}\")\n",
    "print(f\"Congress Max: {confirm_df['Congress'].max()}\")"
   ]
  },
  {
   "cell_type": "markdown",
   "id": "3b40abf9-6a8b-40a2-99c1-ef1d00409d5b",
   "metadata": {},
   "source": [
    "***"
   ]
  },
  {
   "cell_type": "code",
   "execution_count": 22,
   "id": "084e2e8d-2701-4576-9388-22a325a2bc97",
   "metadata": {},
   "outputs": [
    {
     "name": "stdout",
     "output_type": "stream",
     "text": [
      "Unique Session Values: [1 2]\n"
     ]
    }
   ],
   "source": [
    "#Test: Values for the Session column must be 1 or 2\n",
    "print(f\"Unique Session Values: {confirm_df['Session'].unique()}\")"
   ]
  },
  {
   "cell_type": "markdown",
   "id": "3fdb48d6-7b1e-47d9-aa5c-3d02185c206a",
   "metadata": {},
   "source": [
    "***  "
   ]
  },
  {
   "cell_type": "code",
   "execution_count": 72,
   "id": "6133b37f-c6fe-4441-919a-99f89b2027b3",
   "metadata": {},
   "outputs": [
    {
     "data": {
      "text/html": [
       "<div>\n",
       "<style scoped>\n",
       "    .dataframe tbody tr th:only-of-type {\n",
       "        vertical-align: middle;\n",
       "    }\n",
       "\n",
       "    .dataframe tbody tr th {\n",
       "        vertical-align: top;\n",
       "    }\n",
       "\n",
       "    .dataframe thead th {\n",
       "        text-align: right;\n",
       "    }\n",
       "</style>\n",
       "<table border=\"1\" class=\"dataframe\">\n",
       "  <thead>\n",
       "    <tr style=\"text-align: right;\">\n",
       "      <th></th>\n",
       "      <th>Space Force, nominations</th>\n",
       "      <th>Space Force, nominations, carryover</th>\n",
       "      <th>Space Force, confirmed</th>\n",
       "      <th>Space Force, unconfirmed</th>\n",
       "      <th>Space Force, withdrawn</th>\n",
       "    </tr>\n",
       "  </thead>\n",
       "  <tbody>\n",
       "    <tr>\n",
       "      <th>0</th>\n",
       "      <td>0</td>\n",
       "      <td>0</td>\n",
       "      <td>0</td>\n",
       "      <td>0</td>\n",
       "      <td>0</td>\n",
       "    </tr>\n",
       "  </tbody>\n",
       "</table>\n",
       "</div>"
      ],
      "text/plain": [
       "   Space Force, nominations  Space Force, nominations, carryover  \\\n",
       "0                         0                                    0   \n",
       "\n",
       "   Space Force, confirmed  Space Force, unconfirmed  Space Force, withdrawn  \n",
       "0                       0                         0                       0  "
      ]
     },
     "execution_count": 72,
     "metadata": {},
     "output_type": "execute_result"
    }
   ],
   "source": [
    "confirm_df[confirm_df['Year'] == 1983].filter(regex='Space Force')"
   ]
  },
  {
   "cell_type": "code",
   "execution_count": 84,
   "id": "0924c677-56ed-44cd-bd4f-d4116fc28453",
   "metadata": {},
   "outputs": [
    {
     "name": "stdout",
     "output_type": "stream",
     "text": [
      "Validation Error: 1992, Civilian\n",
      "Validation Error: 1997, Civilian\n",
      "Validation Error: 1997, Army\n",
      "Validation Error: 1998, Civilian\n",
      "Validation Error: 2014, Marine Corps\n",
      "Validation Error: 2015, Navy\n",
      "Validation Error: 2016, Army\n",
      "Validation Error: 2018, Army\n",
      "Validation Error: 2019, Civilian\n",
      "Validation Error: 2021, Civilian\n",
      "Validation Error: 2022, Civilian\n",
      "Validation Error: 2022, Air Force\n",
      "Validation Error: 2022, Army\n",
      "Validation Error: 2022, Marine Corps\n"
     ]
    }
   ],
   "source": [
    "# Test: The number of nominations for each branch should equal the sum of all subcategories\n",
    "branches = ['Civilian', 'Air Force', 'Army', 'Marine Corps', 'Navy', 'Space Force']\n",
    "for i, row in confirm_df.iterrows():\n",
    "    for branch in branches:\n",
    "        noms_cols = [branch + ', nominations', branch + ', nominations, carryover']\n",
    "        #print(noms_cols)\n",
    "        sub_regex_str = '^' + branch\n",
    "        sub_cols = confirm_df.filter(regex=sub_regex_str).columns.to_list()\n",
    "        #sub_cols.remove(noms_col)\n",
    "        #sub_cols.remove(noms_col + ', carryover')\n",
    "        sub_cols = set(sub_cols) - set(noms_cols)\n",
    "        #print(sub_cols)\n",
    "        if row[noms_cols].sum() != row[list(sub_cols)].sum():\n",
    "            print(f\"Validation Error: {row['Year']}, {noms_cols[0].split(',')[0]}\")"
   ]
  },
  {
   "cell_type": "code",
   "execution_count": 24,
   "id": "adcb15b3-75a3-4520-9040-7331fb95107f",
   "metadata": {},
   "outputs": [
    {
     "name": "stdout",
     "output_type": "stream",
     "text": [
      "Validation Error: 1997, Total Returned\n",
      "Validation Error: 1998, Total Withdrawn\n",
      "Validation Error: 2000, Total Unconfirmed\n",
      "Validation Error: 2000, Total Returned\n",
      "Validation Error: 2014, Total Returned\n",
      "Validation Error: 2015, Total Confirmed\n",
      "Validation Error: 2018, Total Confirmed\n",
      "Validation Error: 2018, Total Unconfirmed\n",
      "Validation Error: 2019, Total Unconfirmed\n",
      "Validation Error: 2019, Total Returned\n",
      "Validation Error: 2022, Total Unconfirmed\n",
      "Validation Error: 2022, Total Withdrawn\n"
     ]
    }
   ],
   "source": [
    "# Test: The outcome totals should equal the sum of all subcategories\n",
    "failures = False\n",
    "outcomes = ['confirmed', 'unconfirmed', 'failed', 'returned', 'withdrawn', 'recess reappointment', 'rejected']\n",
    "for i, row in confirm_df.iterrows():\n",
    "    #print(row)\n",
    "    for outcome in outcomes:\n",
    "        total_col = 'Total, ' + outcome\n",
    "        sub_regex_str = '.*, ' + outcome + '$'\n",
    "        #print(outcome)\n",
    "        #print(sub_regex_str)\n",
    "        sub_cols = confirm_df.filter(regex=sub_regex_str).columns.to_list()\n",
    "        sub_cols.remove(total_col)\n",
    "        if row[total_col] != row[sub_cols].sum():\n",
    "            print(f\"Validation Error: {row['Year']}, Total {outcome.title()}\")"
   ]
  },
  {
   "cell_type": "markdown",
   "id": "6424ad7d-dff1-4073-9ef8-a3656726bf91",
   "metadata": {},
   "source": [
    "<font color='red'>**Failed:**</font>  The original data sources show a miscalculation the years listed. Further research is needed to determine if a correction was issued, or if the values can be verified from another source. Note that only a sample of the validation errors listed were manually validated.\n",
    "***"
   ]
  },
  {
   "cell_type": "code",
   "execution_count": 26,
   "id": "a245ccdb-28d8-4471-aeee-02e537896826",
   "metadata": {},
   "outputs": [
    {
     "name": "stdout",
     "output_type": "stream",
     "text": [
      "Validation Error: 1997\n",
      "Validation Error: 2016\n",
      "Validation Error: 2018\n",
      "Validation Error: 2021\n"
     ]
    }
   ],
   "source": [
    "# Test: Total nominations should equal the sum of nominations for all branches.\n",
    "for i, row in confirm_df.iterrows():\n",
    "    nom_cols = confirm_df.filter(regex='nominations$').columns.to_list()\n",
    "    nom_cols.remove('Total, nominations')\n",
    "    #print(nom_cols)\n",
    "    #print(f\"{row['Total, nominations']}; {row[nom_cols].sum()}\")\n",
    "    if row['Total, nominations'] != row[nom_cols].sum():\n",
    "        print(f\"Validation Error: {row['Year']}\")"
   ]
  },
  {
   "cell_type": "markdown",
   "id": "4f6895d0-146a-4cc5-b680-b57124c7c6fd",
   "metadata": {},
   "source": [
    "<font color='red'>**Failed:**</font>  The original data sources show a miscalculation the years listed. Further research is needed to determine if a correction was issued, or if the values can be verified from another source. Note that only a sample of the validation errors listed were manually validated.\n",
    "***"
   ]
  },
  {
   "cell_type": "code",
   "execution_count": 65,
   "id": "cfc77e3d-23dd-415f-b5aa-a962c4907d4e",
   "metadata": {},
   "outputs": [
    {
     "data": {
      "text/html": [
       "<div>\n",
       "<style scoped>\n",
       "    .dataframe tbody tr th:only-of-type {\n",
       "        vertical-align: middle;\n",
       "    }\n",
       "\n",
       "    .dataframe tbody tr th {\n",
       "        vertical-align: top;\n",
       "    }\n",
       "\n",
       "    .dataframe thead th {\n",
       "        text-align: right;\n",
       "    }\n",
       "</style>\n",
       "<table border=\"1\" class=\"dataframe\">\n",
       "  <thead>\n",
       "    <tr style=\"text-align: right;\">\n",
       "      <th></th>\n",
       "      <th>Civilian, nominations</th>\n",
       "      <th>Civilian, nominations, carryover</th>\n",
       "      <th>Civilian, confirmed</th>\n",
       "      <th>Civilian, failed</th>\n",
       "      <th>Civilian, recess reappointment</th>\n",
       "      <th>Civilian, rejected</th>\n",
       "      <th>Civilian, returned</th>\n",
       "      <th>Civilian, unconfirmed</th>\n",
       "      <th>Civilian, withdrawn</th>\n",
       "    </tr>\n",
       "  </thead>\n",
       "  <tbody>\n",
       "    <tr>\n",
       "      <th>9</th>\n",
       "      <td>2661</td>\n",
       "      <td>101</td>\n",
       "      <td>2541</td>\n",
       "      <td>0</td>\n",
       "      <td>0</td>\n",
       "      <td>0</td>\n",
       "      <td>0</td>\n",
       "      <td>193</td>\n",
       "      <td>4</td>\n",
       "    </tr>\n",
       "  </tbody>\n",
       "</table>\n",
       "</div>"
      ],
      "text/plain": [
       "   Civilian, nominations  Civilian, nominations, carryover  \\\n",
       "9                   2661                               101   \n",
       "\n",
       "   Civilian, confirmed  Civilian, failed  Civilian, recess reappointment  \\\n",
       "9                 2541                 0                               0   \n",
       "\n",
       "   Civilian, rejected  Civilian, returned  Civilian, unconfirmed  \\\n",
       "9                   0                   0                    193   \n",
       "\n",
       "   Civilian, withdrawn  \n",
       "9                    4  "
      ]
     },
     "execution_count": 65,
     "metadata": {},
     "output_type": "execute_result"
    }
   ],
   "source": [
    "confirm_df[confirm_df['Year'] == 1992].filter(regex='Civilian')"
   ]
  },
  {
   "cell_type": "code",
   "execution_count": 66,
   "id": "4c80014e-4eda-40fa-8b8d-e8a4670d2b21",
   "metadata": {},
   "outputs": [
    {
     "name": "stdout",
     "output_type": "stream",
     "text": [
      "Validation Error: 1992\n",
      "Validation Error: 1997\n",
      "Validation Error: 1998\n",
      "Validation Error: 2014\n",
      "Validation Error: 2015\n",
      "Validation Error: 2016\n",
      "Validation Error: 2018\n",
      "Validation Error: 2019\n",
      "Validation Error: 2021\n",
      "Validation Error: 2022\n"
     ]
    }
   ],
   "source": [
    "# Test: Total nominations should equal the sum of all outcomes\n",
    "nom_cols = confirm_df.filter(regex='nominations').columns.to_list()\n",
    "outcome_cols = confirm_df.filter(regex='^((?!nominations).)*$').columns.to_list()\n",
    "outcome_cols = set(outcome_cols) - set(['Year', 'Congress', 'Session'])\n",
    "\n",
    "for i, row in confirm_df.iterrows():\n",
    "  if row[nom_cols].sum() != row[list(outcome_cols)].sum():\n",
    "        print(f\"Validation Error: {row['Year']}\")"
   ]
  },
  {
   "cell_type": "markdown",
   "id": "c9ccbc81-2fca-4f53-9a26-25a20b47ca5d",
   "metadata": {},
   "source": [
    "***\n",
    "**End**\n",
    "***"
   ]
  }
 ],
 "metadata": {
  "kernelspec": {
   "display_name": "Python 3 (ipykernel)",
   "language": "python",
   "name": "python3"
  },
  "language_info": {
   "codemirror_mode": {
    "name": "ipython",
    "version": 3
   },
   "file_extension": ".py",
   "mimetype": "text/x-python",
   "name": "python",
   "nbconvert_exporter": "python",
   "pygments_lexer": "ipython3",
   "version": "3.10.4"
  }
 },
 "nbformat": 4,
 "nbformat_minor": 5
}
